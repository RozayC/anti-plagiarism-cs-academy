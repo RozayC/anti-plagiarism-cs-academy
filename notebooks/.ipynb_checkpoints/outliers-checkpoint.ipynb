{
 "cells": [
  {
   "cell_type": "code",
   "execution_count": 1,
   "metadata": {},
   "outputs": [],
   "source": [
    "import pandas as pd\n",
    "from scipy.stats import zscore"
   ]
  },
  {
   "cell_type": "code",
   "execution_count": 2,
   "metadata": {},
   "outputs": [
    {
     "name": "stdout",
     "output_type": "stream",
     "text": [
      "Loading CSV file...\n"
     ]
    }
   ],
   "source": [
    "ex_subs = pd.read_csv('../data/ex-subs.csv', low_memory=False)\n",
    "print(\"Loading CSV file...\")"
   ]
  },
  {
   "cell_type": "code",
   "execution_count": 25,
   "metadata": {},
   "outputs": [],
   "source": [
    "# group by student id, drop empty TimeOnTask and empty or 0 NumberAutograderRuns\n",
    "ex_subs = ex_subs.dropna(subset=['TimeOnTask', 'NumberAutograderRuns'])\n",
    "ex_subs = ex_subs[ex_subs['NumberAutograderRuns'] > 0]\n",
    "grouped_by_student = ex_subs.groupby('StudentID')"
   ]
  },
  {
   "cell_type": "code",
   "execution_count": 26,
   "metadata": {},
   "outputs": [],
   "source": [
    "# define a threshold for identifying outliers (use a negative threshold for shorter times)\n",
    "threshold = -1.5\n",
    "\n",
    "#cCreate an empty list to store DataFrames for each student\n",
    "outliers_dfs = []\n"
   ]
  },
  {
   "cell_type": "code",
   "execution_count": 27,
   "metadata": {},
   "outputs": [],
   "source": [
    "for student_id, group in grouped_by_student:\n",
    "    # calculate Z-scores for TimeOnTask within each student group\n",
    "    z_scores = zscore(group['TimeOnTask'])\n",
    "    # create a mask for outliers within each student group\n",
    "    short_time_outliers_mask = z_scores < threshold\n",
    "    if short_time_outliers_mask.any():\n",
    "        # print(f\"Student {student_id} - Number of outliers: {short_time_outliers_mask.sum()}\")\n",
    "        # append the outliers for the current student to the list\n",
    "        outliers_dfs.append(group[short_time_outliers_mask])\n",
    "# concatenate all DataFrames in the list into a single DataFrame\n",
    "short_time_outliers_df = pd.concat(outliers_dfs)\n"
   ]
  },
  {
   "cell_type": "code",
   "execution_count": 30,
   "metadata": {},
   "outputs": [],
   "source": [
    "# output table to data/student_short_time_on_task_outliers.csv\n",
    "short_time_outliers_df.to_csv('../data/student_short_time_on_task_outliers.csv', index=False)"
   ]
  },
  {
   "cell_type": "code",
   "execution_count": 31,
   "metadata": {},
   "outputs": [
    {
     "name": "stdout",
     "output_type": "stream",
     "text": [
      "Number of rows in the original DataFrame: 4027947\n",
      "Number of rows in the outliers DataFrame: 517\n"
     ]
    }
   ],
   "source": [
    "print(\"Number of rows in the original DataFrame:\", len(ex_subs))\n",
    "print(\"Number of rows in the outliers DataFrame:\", len(short_time_outliers_df))"
   ]
  },
  {
   "cell_type": "code",
   "execution_count": null,
   "metadata": {},
   "outputs": [],
   "source": []
  }
 ],
 "metadata": {
  "kernelspec": {
   "display_name": "Python 3 (ipykernel)",
   "language": "python",
   "name": "python3"
  },
  "language_info": {
   "codemirror_mode": {
    "name": "ipython",
    "version": 3
   },
   "file_extension": ".py",
   "mimetype": "text/x-python",
   "name": "python",
   "nbconvert_exporter": "python",
   "pygments_lexer": "ipython3",
   "version": "3.9.13"
  }
 },
 "nbformat": 4,
 "nbformat_minor": 4
}
